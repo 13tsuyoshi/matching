{
 "cells": [
  {
   "cell_type": "markdown",
   "metadata": {},
   "source": [
    "# Many to one"
   ]
  },
  {
   "cell_type": "markdown",
   "metadata": {},
   "source": [
    "経済学部　金融学科４年　高橋剛史"
   ]
  },
  {
   "cell_type": "markdown",
   "metadata": {},
   "source": [
    "[コードはこちらです。](https://github.com/13tsuyoshi/matching/blob/master/Many_to_one.jl)"
   ]
  },
  {
   "cell_type": "code",
   "execution_count": 1,
   "metadata": {
    "collapsed": false,
    "scrolled": true
   },
   "outputs": [
    {
     "name": "stdout",
     "output_type": "stream",
     "text": [
      "Test Summary:          | Pass  Total\n",
      "Testing Many_to_one.jl |   10     10\n"
     ]
    },
    {
     "data": {
      "text/plain": [
       "BaseTestNext.DefaultTestSet(\"Testing Many_to_one.jl\",Any[BaseTestNext.DefaultTestSet(\"deferred_acceptance: one-to-one\",Any[Test Passed\n",
       "  Expression: m_matched_computed == m_matched_expected\n",
       "   Evaluated: [1,2,3,0] == [1,2,3,0],Test Passed\n",
       "  Expression: f_matched_computed == f_matched_expected\n",
       "   Evaluated: [1,2,3] == [1,2,3],Test Passed\n",
       "  Expression: m_matched_computed == m_matched_expected\n",
       "   Evaluated: [1,2,3,0] == [1,2,3,0],Test Passed\n",
       "  Expression: f_matched_computed == f_matched_expected\n",
       "   Evaluated: [1,2,3] == [1,2,3]],false),BaseTestNext.DefaultTestSet(\"deferred_acceptance: many-to-one with caps 1\",Any[Test Passed\n",
       "  Expression: m_matched_computed == m_matched_expected\n",
       "   Evaluated: [1,2,3,0] == [1,2,3,0],Test Passed\n",
       "  Expression: f_matched_computed == f_matched_expected\n",
       "   Evaluated: [1,2,3] == [1,2,3],Test Passed\n",
       "  Expression: indptr_computed == indptr_expected\n",
       "   Evaluated: [1,2,3,4] == [1,2,3,4]],false),BaseTestNext.DefaultTestSet(\"deferred_acceptance: many-to-one\",Any[Test Passed\n",
       "  Expression: s_matched_computed == s_matched_expected\n",
       "   Evaluated: [3,1,4,3,1,3,2,1,4,1,5] == [3,1,4,3,1,3,2,1,4,1,5],Test Passed\n",
       "  Expression: c_matched_computed == c_matched_expected\n",
       "   Evaluated: [2,5,8,10,7,1,4,6,3,9,11] == [2,5,8,10,7,1,4,6,3,9,11],Test Passed\n",
       "  Expression: indptr_computed == indptr_expected\n",
       "   Evaluated: [1,5,6,9,11,12] == [1,5,6,9,11,12]],false)],false)"
      ]
     },
     "execution_count": 1,
     "metadata": {},
     "output_type": "execute_result"
    }
   ],
   "source": [
    "include(\"test_Many_to_one.jl\")#試験通ります。"
   ]
  },
  {
   "cell_type": "code",
   "execution_count": null,
   "metadata": {
    "collapsed": true
   },
   "outputs": [],
   "source": []
  }
 ],
 "metadata": {
  "kernelspec": {
   "display_name": "Julia 0.4.6",
   "language": "julia",
   "name": "julia-0.4"
  },
  "language_info": {
   "file_extension": ".jl",
   "mimetype": "application/julia",
   "name": "julia",
   "version": "0.4.6"
  }
 },
 "nbformat": 4,
 "nbformat_minor": 0
}
