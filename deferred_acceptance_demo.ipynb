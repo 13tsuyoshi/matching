{
 "cells": [
  {
   "cell_type": "markdown",
   "metadata": {},
   "source": [
    "#課題２　経済学部４年　高橋剛史"
   ]
  },
  {
   "cell_type": "markdown",
   "metadata": {},
   "source": [
    "[関数のコードはこれです](https://github.com/13tsuyoshi/matching/blob/master/deferred_acceptance.jl)"
   ]
  },
  {
   "cell_type": "code",
   "execution_count": 2,
   "metadata": {
    "collapsed": false
   },
   "outputs": [
    {
     "name": "stdout",
     "output_type": "stream",
     "text": [
      "function deferred_acceptance(m_prefs::Array{Int64},f_prefs::Array{Int64})\n",
      "m_prefs = m_prefs'\n",
      "f_prefs = f_prefs'    \n",
      "\n",
      "m_size = size(m_prefs, 1)#男の数\n",
      "f_size = size(f_prefs, 1)#女の数\n",
      "is_single_prop = ones(Bool,m_size)#男たちが独身かどうか。０なら独身でない１なら独身\n",
      "next_resp = ones(Int,m_size)#各人の男たちにとって次求婚する女の順位（最初は皆一番好きな女からアッタクしていく）\n",
      "current_prop = zeros(Int,f_size)#暫定的にマッチングしてる女各人にとっての男たちのリスト。\n",
      "while sum(is_single_prop) != 0#独身の男たちがいる間は\n",
      "    for m in 1:m_size#男の数分全員考える\n",
      "            if is_single_prop[m]#もしmが独身なら（１なら）\n",
      "                f = m_prefs[m, next_resp[m]]  # 次求婚する女に求婚する\n",
      "                if f == 0# 次求婚する女がマッチングしなかった時の状態の女だったらつまり誰とも結婚したくなかったら\n",
      "                is_single_prop[m] = false#独身とみなさない #Falseではダメ\n",
      "                elseif (find(f_prefs[f,:].==m) .< find(f_prefs[f,:].==current_prop[f])) == trues(1)#fに取ってmが今の彼氏よりもよかったら\n",
      "                    if current_prop[f] != 0#もしfに付き合っていた人がいたら\n",
      "                        is_single_prop[current_prop[f]] = true#fのもと交際相手の男が独身になる\n",
      "                    end\n",
      "                    current_prop[f] = m#fの付き合っている人をmにする\n",
      "                    is_single_prop[m] = false#mを独身でなくさせる\n",
      "                end\n",
      "            next_resp[m] += 1#次の求婚対象の女を次の順位の女にする\n",
      "            end\n",
      "    end\n",
      "end\n",
      "    \n",
      "m_matched = Array(Int64,m_size)\n",
      "for m in 1:m_size\n",
      "    m_matched[m]= m_prefs[m,next_resp[m]-1]\n",
      "end\n",
      "f_matched = current_prop\n",
      "    \n",
      "    return m_matched,f_matched\n",
      "\n",
      "\n",
      "\n",
      "end"
     ]
    }
   ],
   "source": [
    ";cat　deferred_acceptance.jl "
   ]
  },
  {
   "cell_type": "code",
   "execution_count": 1,
   "metadata": {
    "collapsed": false
   },
   "outputs": [
    {
     "name": "stdout",
     "output_type": "stream",
     "text": [
      "Test Summary:                  | Pass  Total\n",
      "Testing deferred_acceptance.jl |    4      4\n"
     ]
    },
    {
     "data": {
      "text/plain": [
       "BaseTestNext.DefaultTestSet(\"Testing deferred_acceptance.jl\",Any[BaseTestNext.DefaultTestSet(\"deferred_acceptance\",Any[Test Passed\n",
       "  Expression: m_matched_computed == m_matched_expected\n",
       "   Evaluated: [1,2,3,0] == [1,2,3,0],Test Passed\n",
       "  Expression: f_matched_computed == f_matched_expected\n",
       "   Evaluated: [1,2,3] == [1,2,3],Test Passed\n",
       "  Expression: m_matched_computed == m_matched_expected\n",
       "   Evaluated: [1,2,3,0] == [1,2,3,0],Test Passed\n",
       "  Expression: f_matched_computed == f_matched_expected\n",
       "   Evaluated: [1,2,3] == [1,2,3]],false)],false)"
      ]
     },
     "execution_count": 1,
     "metadata": {},
     "output_type": "execute_result"
    }
   ],
   "source": [
    "include(\"test_deferred_acceptance.jl\")#試験通ってます。"
   ]
  },
  {
   "cell_type": "code",
   "execution_count": null,
   "metadata": {
    "collapsed": true
   },
   "outputs": [],
   "source": []
  }
 ],
 "metadata": {
  "kernelspec": {
   "display_name": "Julia 0.4.5",
   "language": "julia",
   "name": "julia-0.4"
  },
  "language_info": {
   "file_extension": ".jl",
   "mimetype": "application/julia",
   "name": "julia",
   "version": "0.4.5"
  }
 },
 "nbformat": 4,
 "nbformat_minor": 0
}
