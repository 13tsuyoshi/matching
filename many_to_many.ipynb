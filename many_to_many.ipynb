{
 "cells": [
  {
   "cell_type": "code",
   "execution_count": 1,
   "metadata": {
    "collapsed": false
   },
   "outputs": [
    {
     "data": {
      "text/plain": [
       "5-element Array{Int64,1}:\n",
       "  1\n",
       "  3\n",
       "  5\n",
       "  8\n",
       " 11"
      ]
     },
     "execution_count": 1,
     "metadata": {},
     "output_type": "execute_result"
    }
   ],
   "source": [
    "f_prefs =[1 2 3 4;\n",
    "          2 3 4 5;\n",
    "          3 4 5 6;\n",
    "          4 5 6 7;\n",
    "          5 6 7 8;\n",
    "          6 7 8 9;\n",
    "          7 8 9 10;\n",
    "          8 9 10 1;\n",
    "          9 10 1 2;\n",
    "          10 1 2 3;\n",
    "    0 0 0 0]#college admission のケースではこちらが大学の選好\n",
    "m_prefs = [3 1 3 3 1 3 3 1 3 2;\n",
    "         1 2 0 1 2 0 1 2 0 3;\n",
    "        2 3 2 2 3 2 2 3 2 1;\n",
    "        4 4 1 4 4 1 4 4 1 4;\n",
    "    0 0 4 0 0 4 0 0 4 0]#college admission のケースではこちらが生徒の選好\n",
    "\n",
    "caps=[2,2,3,3]\n",
    "indptr=[1,3,5,8,11]"
   ]
  },
  {
   "cell_type": "code",
   "execution_count": 2,
   "metadata": {
    "collapsed": false
   },
   "outputs": [
    {
     "name": "stdout",
     "output_type": "stream",
     "text": [
      "[1,1,3,3,2,3,2,4,0,4]\n",
      "[1,2,5,7,4,3,6,0,10,8]\n"
     ]
    }
   ],
   "source": [
    "m_prefs = m_prefs'\n",
    "f_prefs = f_prefs'    \n",
    "m_size = size(m_prefs, 1)#男の数\n",
    "f_size = size(f_prefs, 1)#女の数\n",
    "is_single_prop = ones(Bool,m_size)#男たちが独身かどうか。０なら独身でない１なら独身\n",
    "next_resp = ones(Int,m_size)#各人の男たちにとって次求婚する女の順位（最初は皆一番好きな女からアッタクしていく）\n",
    "current_prop = zeros(Int,sum(caps))#暫定的にマッチングしてる女各人にとっての男たちのリスト。m_sizeでいいよね？\n",
    "caps_cnt=copy(caps)\n",
    "while sum(is_single_prop)　!= 0\n",
    "     for m in 1:m_size#男の数分全員考える\n",
    "                if is_single_prop[m]#もしmが独身なら（１なら）\n",
    "                    f = m_prefs[m, next_resp[m]]  # 次求婚する女に求婚する\n",
    "                    if f == 0# 次求婚する女がマッチングしなかった時の状態の女だったらつまり誰とも結婚したくなかったら\n",
    "                    is_single_prop[m] = false#独身とみなさない #Falseではダメ\n",
    "                    elseif caps_cnt[f] >= 1#capscnt[f]にまだ空きがあれば\n",
    "                        if (find(f_prefs[f,:].==m) .< find(f_prefs[f,:].==0)) == trues(1)#fに取ってmが今の彼氏よりもよかったら\n",
    "                            now_f = sum(caps[1:f-1]) + caps_cnt[f]#後ろから順に入れていく。\n",
    "                            current_prop[now_f] = m　#mに仮マッチさせる\n",
    "                            is_single_prop[m] = false#mを独身でなくさせる\n",
    "                            caps_cnt[f] -=  1 #caps_cnt[f] の空き容量を一つなくす\n",
    "                        end\n",
    "                    elseif  caps_cnt[f] ==0#capscnt[f]がいっぱいだったら\n",
    "                        pooled = current_prop[indptr[f]:indptr[f+1]-1]#ここ注意。indptrの定義による#fについて仮マッチングしている男たちをリストアップし\n",
    "                        a= 0\n",
    "                        worst = 0\n",
    "                        worst_psn=0    \n",
    "                        for i in pooled #fと仮マッチングしている奴らの選好順位をリストアップしその中の一番低い選好のやつを洗い出しておく。\n",
    "                            if (find(f_prefs[f,:].==i) .> a)== trues(1)\n",
    "                                worst  = find(f_prefs[f,:].==i)\n",
    "                                worst_psn= i\n",
    "                                a= find(f_prefs[f,:].==i)\n",
    "                            end\n",
    "                        end\n",
    "                        if (find(f_prefs[f,:].==m) .< worst) == trues(1)#一番低い選好と比べ、自分がそれよりも良い選好なら\n",
    "                            is_single_prop[worst_psn]= true#一番低いやつが独身状態となる\n",
    "                            current_prop[find(current_prop.==worst_psn)] = m　#mを一番低いやつが属していたところでマッチさせる#もっと簡単にできないだろうか              \n",
    "                            is_single_prop[m] = false#mを独身でなくさせる\n",
    "                        end\n",
    "                    end\n",
    "                next_resp[m] += 1#次の求婚対象の女を次の順位の女にする\n",
    "                end\n",
    "        end\n",
    "                    \n",
    "end\n",
    "m_matched = Array(Int64,m_size)\n",
    "    for m in 1:m_size\n",
    "        m_matched[m]= m_prefs[m,next_resp[m]-1]\n",
    "    end\n",
    "    f_matched = current_prop\n",
    "println(m_matched)\n",
    "println(f_matched)"
   ]
  },
  {
   "cell_type": "code",
   "execution_count": null,
   "metadata": {
    "collapsed": true
   },
   "outputs": [],
   "source": []
  }
 ],
 "metadata": {
  "kernelspec": {
   "display_name": "Julia 0.4.5",
   "language": "julia",
   "name": "julia-0.4"
  },
  "language_info": {
   "file_extension": ".jl",
   "mimetype": "application/julia",
   "name": "julia",
   "version": "0.4.5"
  }
 },
 "nbformat": 4,
 "nbformat_minor": 0
}
