{
 "cells": [
  {
   "cell_type": "code",
   "execution_count": 1,
   "metadata": {
    "collapsed": false
   },
   "outputs": [
    {
     "name": "stdout",
     "output_type": "stream",
     "text": [
      "[2,1,3]\n",
      "[2,1,3]\n"
     ]
    }
   ],
   "source": [
    "m_prefs = [1 2 3 0;1 3 2 0;3 1 2 0]\n",
    "f_prefs = [2 1 3 0; 1 3 2 0;3 1 2 0]\n",
    "m_size = size(m_prefs, 1)#男の数\n",
    "f_size = size(f_prefs, 1)#女の数\n",
    "is_single_prop = ones(Bool,m_size)#男たちが独身かどうか。０なら独身でない１なら独身\n",
    "next_resp = ones(Int,m_size)#各人の男たちにとって次求婚する女の順位（最初は皆一番好きな女からアッタクしていく）\n",
    "current_prop = zeros(Int,f_size)#暫定的にマッチングしてる女各人にとっての男たちのリスト。\n",
    "while sum(is_single_prop) != 0#独身の男たちがいる間は\n",
    "    for m in 1:m_size#男の数分全員考える\n",
    "            if is_single_prop[m]#もしmが独身なら（１なら）\n",
    "                f = m_prefs[m, next_resp[m]]  # 次求婚する女に求婚する\n",
    "                if f == 0# 次求婚する女がマッチングしなかった時の状態の女だったらつまり誰とも結婚したくなかったら\n",
    "                is_single_prop[m] = false#独身とみなさない #Falseではダメ\n",
    "                elseif (find(f_prefs[f,:].==m) .< find(f_prefs[f,:].==current_prop[f])) == trues(1)#fに取ってmが今の彼氏よりもよかったら\n",
    "                    if current_prop[f] != 0#もしrに付き合っていた人がいたら\n",
    "                        is_single_prop[current_prop[f]] = true#fのもと交際相手の男が独身になる\n",
    "                    end\n",
    "                    current_prop[f] = m#fの付き合っている人をmにする\n",
    "                    is_single_prop[m] = false#mを独身でなくさせる\n",
    "                next_resp[m] += 1#次の求婚対象の女を次の順位の女にする\n",
    "                end\n",
    "            end\n",
    "    end\n",
    "end\n",
    "\n",
    "m_matched = Array(Int64,m_size)\n",
    "for m in 1:m_size\n",
    "    m_matched[m]= m_prefs[m,next_resp[m]-1]\n",
    "end\n",
    "println(current_prop)\n",
    "println(m_matched)"
   ]
  },
  {
   "cell_type": "code",
   "execution_count": null,
   "metadata": {
    "collapsed": true
   },
   "outputs": [],
   "source": []
  }
 ],
 "metadata": {
  "kernelspec": {
   "display_name": "Julia 0.4.5",
   "language": "julia",
   "name": "julia-0.4"
  },
  "language_info": {
   "file_extension": ".jl",
   "mimetype": "application/julia",
   "name": "julia",
   "version": "0.4.5"
  }
 },
 "nbformat": 4,
 "nbformat_minor": 0
}
